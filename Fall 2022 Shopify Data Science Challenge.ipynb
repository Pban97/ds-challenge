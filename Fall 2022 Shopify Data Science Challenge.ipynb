{
 "cells": [
  {
   "cell_type": "code",
   "execution_count": 1,
   "id": "eaeffdcb",
   "metadata": {},
   "outputs": [],
   "source": [
    "import pandas as pd\n",
    "import numpy as np"
   ]
  },
  {
   "cell_type": "code",
   "execution_count": 21,
   "id": "ffc54eb8",
   "metadata": {},
   "outputs": [],
   "source": [
    "# edit path in case code needs to be run\n",
    "df = pd.read_csv('/Users/pallavibanerjee/Desktop/2019 Winter Data Science Intern Challenge Data Set - Sheet1.csv')"
   ]
  },
  {
   "cell_type": "code",
   "execution_count": 16,
   "id": "54b01fbc",
   "metadata": {},
   "outputs": [
    {
     "data": {
      "text/html": [
       "<div>\n",
       "<style scoped>\n",
       "    .dataframe tbody tr th:only-of-type {\n",
       "        vertical-align: middle;\n",
       "    }\n",
       "\n",
       "    .dataframe tbody tr th {\n",
       "        vertical-align: top;\n",
       "    }\n",
       "\n",
       "    .dataframe thead th {\n",
       "        text-align: right;\n",
       "    }\n",
       "</style>\n",
       "<table border=\"1\" class=\"dataframe\">\n",
       "  <thead>\n",
       "    <tr style=\"text-align: right;\">\n",
       "      <th></th>\n",
       "      <th>order_id</th>\n",
       "      <th>shop_id</th>\n",
       "      <th>user_id</th>\n",
       "      <th>order_amount</th>\n",
       "      <th>total_items</th>\n",
       "      <th>payment_method</th>\n",
       "      <th>created_at</th>\n",
       "    </tr>\n",
       "  </thead>\n",
       "  <tbody>\n",
       "    <tr>\n",
       "      <th>0</th>\n",
       "      <td>1</td>\n",
       "      <td>53</td>\n",
       "      <td>746</td>\n",
       "      <td>224</td>\n",
       "      <td>2</td>\n",
       "      <td>cash</td>\n",
       "      <td>2017-03-13 12:36:56</td>\n",
       "    </tr>\n",
       "    <tr>\n",
       "      <th>1</th>\n",
       "      <td>2</td>\n",
       "      <td>92</td>\n",
       "      <td>925</td>\n",
       "      <td>90</td>\n",
       "      <td>1</td>\n",
       "      <td>cash</td>\n",
       "      <td>2017-03-03 17:38:52</td>\n",
       "    </tr>\n",
       "    <tr>\n",
       "      <th>2</th>\n",
       "      <td>3</td>\n",
       "      <td>44</td>\n",
       "      <td>861</td>\n",
       "      <td>144</td>\n",
       "      <td>1</td>\n",
       "      <td>cash</td>\n",
       "      <td>2017-03-14 4:23:56</td>\n",
       "    </tr>\n",
       "    <tr>\n",
       "      <th>3</th>\n",
       "      <td>4</td>\n",
       "      <td>18</td>\n",
       "      <td>935</td>\n",
       "      <td>156</td>\n",
       "      <td>1</td>\n",
       "      <td>credit_card</td>\n",
       "      <td>2017-03-26 12:43:37</td>\n",
       "    </tr>\n",
       "    <tr>\n",
       "      <th>4</th>\n",
       "      <td>5</td>\n",
       "      <td>18</td>\n",
       "      <td>883</td>\n",
       "      <td>156</td>\n",
       "      <td>1</td>\n",
       "      <td>credit_card</td>\n",
       "      <td>2017-03-01 4:35:11</td>\n",
       "    </tr>\n",
       "    <tr>\n",
       "      <th>...</th>\n",
       "      <td>...</td>\n",
       "      <td>...</td>\n",
       "      <td>...</td>\n",
       "      <td>...</td>\n",
       "      <td>...</td>\n",
       "      <td>...</td>\n",
       "      <td>...</td>\n",
       "    </tr>\n",
       "    <tr>\n",
       "      <th>4995</th>\n",
       "      <td>4996</td>\n",
       "      <td>73</td>\n",
       "      <td>993</td>\n",
       "      <td>330</td>\n",
       "      <td>2</td>\n",
       "      <td>debit</td>\n",
       "      <td>2017-03-30 13:47:17</td>\n",
       "    </tr>\n",
       "    <tr>\n",
       "      <th>4996</th>\n",
       "      <td>4997</td>\n",
       "      <td>48</td>\n",
       "      <td>789</td>\n",
       "      <td>234</td>\n",
       "      <td>2</td>\n",
       "      <td>cash</td>\n",
       "      <td>2017-03-16 20:36:16</td>\n",
       "    </tr>\n",
       "    <tr>\n",
       "      <th>4997</th>\n",
       "      <td>4998</td>\n",
       "      <td>56</td>\n",
       "      <td>867</td>\n",
       "      <td>351</td>\n",
       "      <td>3</td>\n",
       "      <td>cash</td>\n",
       "      <td>2017-03-19 5:42:42</td>\n",
       "    </tr>\n",
       "    <tr>\n",
       "      <th>4998</th>\n",
       "      <td>4999</td>\n",
       "      <td>60</td>\n",
       "      <td>825</td>\n",
       "      <td>354</td>\n",
       "      <td>2</td>\n",
       "      <td>credit_card</td>\n",
       "      <td>2017-03-16 14:51:18</td>\n",
       "    </tr>\n",
       "    <tr>\n",
       "      <th>4999</th>\n",
       "      <td>5000</td>\n",
       "      <td>44</td>\n",
       "      <td>734</td>\n",
       "      <td>288</td>\n",
       "      <td>2</td>\n",
       "      <td>debit</td>\n",
       "      <td>2017-03-18 15:48:18</td>\n",
       "    </tr>\n",
       "  </tbody>\n",
       "</table>\n",
       "<p>5000 rows × 7 columns</p>\n",
       "</div>"
      ],
      "text/plain": [
       "      order_id  shop_id  user_id  order_amount  total_items payment_method  \\\n",
       "0            1       53      746           224            2           cash   \n",
       "1            2       92      925            90            1           cash   \n",
       "2            3       44      861           144            1           cash   \n",
       "3            4       18      935           156            1    credit_card   \n",
       "4            5       18      883           156            1    credit_card   \n",
       "...        ...      ...      ...           ...          ...            ...   \n",
       "4995      4996       73      993           330            2          debit   \n",
       "4996      4997       48      789           234            2           cash   \n",
       "4997      4998       56      867           351            3           cash   \n",
       "4998      4999       60      825           354            2    credit_card   \n",
       "4999      5000       44      734           288            2          debit   \n",
       "\n",
       "               created_at  \n",
       "0     2017-03-13 12:36:56  \n",
       "1     2017-03-03 17:38:52  \n",
       "2      2017-03-14 4:23:56  \n",
       "3     2017-03-26 12:43:37  \n",
       "4      2017-03-01 4:35:11  \n",
       "...                   ...  \n",
       "4995  2017-03-30 13:47:17  \n",
       "4996  2017-03-16 20:36:16  \n",
       "4997   2017-03-19 5:42:42  \n",
       "4998  2017-03-16 14:51:18  \n",
       "4999  2017-03-18 15:48:18  \n",
       "\n",
       "[5000 rows x 7 columns]"
      ]
     },
     "execution_count": 16,
     "metadata": {},
     "output_type": "execute_result"
    }
   ],
   "source": [
    "df"
   ]
  },
  {
   "cell_type": "markdown",
   "id": "e4aaa96a",
   "metadata": {},
   "source": [
    "To calculate the average order value, we take the sum total of the order amount at each store, add them up anf then divide it by thr total number of orders places across all 100 shops. The code below executes this."
   ]
  },
  {
   "cell_type": "code",
   "execution_count": 62,
   "id": "d2426771",
   "metadata": {},
   "outputs": [
    {
     "name": "stdout",
     "output_type": "stream",
     "text": [
      "The AOV is, 3145.128\n"
     ]
    }
   ],
   "source": [
    "N = sum(list(df.groupby('shop_id')['order_amount'].sum())) # numerator, total valuation of all orders\n",
    "D = sum(list(df.groupby('shop_id')['order_id'].count())) # denominator, total number of orders\n",
    "AOV = N/D\n",
    "print('The AOV is,', AOV)"
   ]
  },
  {
   "cell_type": "markdown",
   "id": "5f0f7636",
   "metadata": {},
   "source": [
    "Since the value we are getting is infact too high given that there are just sneakers, we must explore to data to undertsnd if there are any issues/oytliers."
   ]
  },
  {
   "cell_type": "markdown",
   "id": "b4f810f9",
   "metadata": {},
   "source": [
    "DATA EXPLORATION"
   ]
  },
  {
   "cell_type": "code",
   "execution_count": null,
   "id": "33d0f8eb",
   "metadata": {},
   "outputs": [],
   "source": [
    "df['shop_id'].unique()"
   ]
  },
  {
   "cell_type": "code",
   "execution_count": 44,
   "id": "e3ea6539",
   "metadata": {},
   "outputs": [
    {
     "data": {
      "text/plain": [
       "'2017-03-01 0:08:09'"
      ]
     },
     "execution_count": 44,
     "metadata": {},
     "output_type": "execute_result"
    }
   ],
   "source": [
    "min(df['created_at'])"
   ]
  },
  {
   "cell_type": "code",
   "execution_count": 45,
   "id": "a366b412",
   "metadata": {},
   "outputs": [
    {
     "data": {
      "text/plain": [
       "'2017-03-30 9:55:00'"
      ]
     },
     "execution_count": 45,
     "metadata": {},
     "output_type": "execute_result"
    }
   ],
   "source": [
    "max(df['created_at'])"
   ]
  },
  {
   "cell_type": "code",
   "execution_count": 55,
   "id": "0b3cf3e6",
   "metadata": {},
   "outputs": [
    {
     "data": {
      "text/plain": [
       "90"
      ]
     },
     "execution_count": 55,
     "metadata": {},
     "output_type": "execute_result"
    }
   ],
   "source": [
    "min(df['order_amount'])"
   ]
  },
  {
   "cell_type": "markdown",
   "id": "b0ffb7af",
   "metadata": {},
   "source": [
    "The minimum amount of 90 makes sense to me, this does not look like an outlier."
   ]
  },
  {
   "cell_type": "code",
   "execution_count": 56,
   "id": "0e81ff73",
   "metadata": {},
   "outputs": [
    {
     "data": {
      "text/plain": [
       "704000"
      ]
     },
     "execution_count": 56,
     "metadata": {},
     "output_type": "execute_result"
    }
   ],
   "source": [
    "max(df['order_amount'])"
   ]
  },
  {
   "cell_type": "markdown",
   "id": "16671747",
   "metadata": {},
   "source": [
    "\n",
    "The maximum amount seems a bit off and could be for the following reasons:\n",
    "    1. Typo in data entry\n",
    "    2. Just a very rich customer, and hence an outlier.\n",
    " \n",
    "In our anlysis we should ideally leave this data point behins if infact this value is one of it's kind. To check that, a visualization of the data is a good idea."
   ]
  },
  {
   "cell_type": "code",
   "execution_count": 57,
   "id": "658c6307",
   "metadata": {},
   "outputs": [
    {
     "data": {
      "text/plain": [
       "<AxesSubplot:>"
      ]
     },
     "execution_count": 57,
     "metadata": {},
     "output_type": "execute_result"
    },
    {
     "data": {
      "image/png": "[encoded data removed]",
      "text/plain": [
       "<Figure size 432x288 with 1 Axes>"
      ]
     },
     "metadata": {
      "needs_background": "light"
     },
     "output_type": "display_data"
    }
   ],
   "source": [
    "df.boxplot(column=['order_amount'])"
   ]
  },
  {
   "cell_type": "markdown",
   "id": "e5029cde",
   "metadata": {},
   "source": [
    "Thus, it is a good idea to remove this data point, as we can see most of the values are less than 200000"
   ]
  },
  {
   "cell_type": "code",
   "execution_count": null,
   "id": "d127f170",
   "metadata": {},
   "outputs": [],
   "source": [
    "A good idea to evaluate this by ignoring this outlier is by incorporating "
   ]
  },
  {
   "cell_type": "code",
   "execution_count": 59,
   "id": "5102f8cd",
   "metadata": {},
   "outputs": [],
   "source": [
    "df2 = df[(df['order_amount'] < 200000) ]\n",
    "N = sum(list(df2.groupby('shop_id')['order_amount'].sum())) # numerator, total valuation of all orders\n",
    "D = sum(list(df2.groupby('shop_id')['order_id'].count())) # denominator, total number of orders\n",
    "AOV = N/D\n"
   ]
  },
  {
   "cell_type": "code",
   "execution_count": 60,
   "id": "7546cd48",
   "metadata": {},
   "outputs": [
    {
     "name": "stdout",
     "output_type": "stream",
     "text": [
      "The AOV is, 754.0919125025085\n"
     ]
    }
   ],
   "source": [
    "print('The AOV is,', AOV)\n"
   ]
  },
  {
   "cell_type": "markdown",
   "id": "32e5b2a7",
   "metadata": {},
   "source": [
    "### ANSWERS:"
   ]
  },
  {
   "cell_type": "markdown",
   "id": "5c40a6a1",
   "metadata": {},
   "source": [
    "1. Think about what could be going wrong with our calculation. Think about a better way to evaluate this data. \n",
    "\n",
    "The error was the outlier which was not removed while Calculating the AOV.\n",
    "Better way to approach is to first explore the data to understand issues with the data quality or the trends in the data.\n",
    "One way to go further is by either removing the outlier or using more robust techniques. However, in this case, the outlier removal makes more sense to me.\n",
    "\n",
    "2. What metric would you report for this dataset?\n",
    "\n",
    "I would report the average order values over the thirty month period but with the outlier removed.\n",
    "Other lower end values seem to make sense to me, as sneakers may cost that less i.e, 90\n",
    "\n",
    "\n",
    "\n",
    "\n",
    "\n"
   ]
  },
  {
   "cell_type": "raw",
   "id": "f1577496",
   "metadata": {},
   "source": [
    "df2 = df[(df['order_amount'] < 200000) ]\n",
    "N = sum(list(df2.groupby('shop_id')['order_amount'].sum())) # numerator, total valuation of all orders\n",
    "D = sum(list(df2.groupby('shop_id')['order_id'].count())) # denominator, total number of orders\n",
    "AOV = N/D"
   ]
  },
  {
   "cell_type": "markdown",
   "id": "9e5af082",
   "metadata": {},
   "source": [
    "3. What is its value?\n",
    "\n",
    "The AOV is, 754.0919125025085"
   ]
  },
  {
   "cell_type": "code",
   "execution_count": null,
   "id": "d1474766",
   "metadata": {},
   "outputs": [],
   "source": []
  }
 ],
 "metadata": {
  "kernelspec": {
   "display_name": "Python 3 (ipykernel)",
   "language": "python",
   "name": "python3"
  },
  "language_info": {
   "codemirror_mode": {
    "name": "ipython",
    "version": 3
   },
   "file_extension": ".py",
   "mimetype": "text/x-python",
   "name": "python",
   "nbconvert_exporter": "python",
   "pygments_lexer": "ipython3",
   "version": "3.9.7"
  }
 },
 "nbformat": 4,
 "nbformat_minor": 5
}
